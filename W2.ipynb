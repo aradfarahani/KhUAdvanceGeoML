{
 "cells": [
  {
   "cell_type": "markdown",
   "id": "4b21e5b4-d915-44b8-803f-b3705aa812b0",
   "metadata": {},
   "source": [
    "# Introduction to Libraries in Python\n",
    "Python is renowned for its extensive collection of libraries that extend its capabilities beyond the basic functions of the language. These libraries are precompiled codes, which can be used in various programs for specific operations, saving time and effort for developers. <br>\n",
    "## What is a Library?\n",
    "In the context of programming, a library is akin to a collection of books in a traditional library. It’s a set of pre-written code modules that serve a specific functionality. These modules are reusable and can be integrated into a programmer’s code, enhancing the development process and functionality of the software. <br>\n",
    "## Python Standard Library\n",
    "The Python Standard Library is a powerful toolkit included with every Python installation. It contains <ins>over 200</ins> core modules that provide access to system functionality and are essential for programming tasks ranging from file I/O to data serialization. <br>\n",
    "## Popular Python Libraries\n",
    "Here are some of the most popular Python libraries that have become staples in various domains:<br>\n",
    "\n",
    "* ### Matplotlib\n",
    "A plotting library for creating static, interactive, and animated visualizations in Python. It’s highly useful for data visualization and graphical plotting.\n",
    "\n",
    "* ### NumPy:\n",
    "A library for numerical computing, providing support for large, multi-dimensional arrays and matrices, along with a collection of mathematical functions to operate on these arrays\n",
    "\n",
    "* ### Pandas:\n",
    "An open-source library providing high-performance, easy-to-use data structures, and data analysis tools. It’s particularly well-suited for structured data operations and manipulations.\n",
    "\n",
    "* ### OSGeo:\n",
    "`OSGeo`, the Open Source Geospatial Foundation, supports and promotes the collaborative development of open geospatial technologies and data. The OSGeo library in Python is a collection of tools for processing geospatial data, supporting the likes of GDAL/OGR, Proj.4, GEOS, etc\n",
    "\n",
    "* ### Seaborn:\n",
    "`Seaborn` is a statistical data visualization library in Python. It’s based on matplotlib and provides a high-level interface for drawing attractive and informative statistical graphics\n",
    "\n",
    "* ### Scikit-learn\n",
    "\n",
    "`Scikit-learn` is a powerful Python library for machine learning. It provides simple and efficient tools for data mining and data analysis. It’s built on `NumPy`, `SciPy`, and `matplotlib`, and it’s open source, commercially usable - BSD licensed:\n",
    "\n",
    "* ### TensorFlow:\n",
    "Developed by Googl e, this open-source library is used for high-level computations and is instrumental in machine learning and deep learning algorithms\n",
    "\n",
    "* ### Xarray:\n",
    "`Xarray` is an open-source project and Python library that makes working with labelled multi-dimensional arrays simple, efficient, and fun! Xarray introduces labels in the form of dimensions, coordinates, and attributes on top of raw NumPy-like arrays, which makes data more self-describing and interoperable\r\n",
    "\r\n"
   ]
  },
  {
   "cell_type": "markdown",
   "id": "75bda394-8a2b-4f22-b4fb-9c0149b1abb5",
   "metadata": {},
   "source": [
    "# Using pip to Install Python Libraries\n",
    "\n",
    "`pip` is the library installer for Python. You can use it to install Libraries from the Python library Index (PyPI) and other indexes.\n",
    "\n",
    "## How to Install a Libraries with pip\n",
    "\n",
    "To install a library, open your command-line interface and enter:\n",
    "\n",
    "```bash\n",
    "pip install package-name\n"
   ]
  },
  {
   "cell_type": "code",
   "execution_count": null,
   "id": "3941c489-10a3-424d-bdd2-33445ac8b4aa",
   "metadata": {},
   "outputs": [],
   "source": [
    "pip install xarray"
   ]
  },
  {
   "cell_type": "markdown",
   "id": "034f3ef1-960e-4cb3-a026-33bb5697ae11",
   "metadata": {},
   "source": [
    "## Using Libraries in Python\n",
    "After installation, you can use the Library in your Python scripts as follows:\r\n"
   ]
  },
  {
   "cell_type": "code",
   "execution_count": 1,
   "id": "914cc039-f470-46ad-86f2-cc53516c0d26",
   "metadata": {},
   "outputs": [],
   "source": [
    "import numpy as np"
   ]
  },
  {
   "cell_type": "markdown",
   "id": "0b894ace-b6c7-43b6-881d-128d415ba950",
   "metadata": {},
   "source": [
    "This line imports the NumPy library and aliases it as np, allowing you to use its functions and modules with the np prefix.\n"
   ]
  },
  {
   "cell_type": "code",
   "execution_count": 2,
   "id": "8dd3bc99-65f4-49d4-abf0-adacc5895d39",
   "metadata": {},
   "outputs": [],
   "source": [
    "from osgeo import gdal"
   ]
  },
  {
   "cell_type": "markdown",
   "id": "67ecff42-8f68-4d11-9327-f06c6ce12f23",
   "metadata": {},
   "source": [
    "## Upgrading a Library\n",
    "\r",
    "To upgrade an existing Library to the latest version, use:\r\n",
    "\n",
    "\n",
    "\n",
    "```ba\n",
    "pip install --upgrade package-namesh"
   ]
  },
  {
   "cell_type": "code",
   "execution_count": 3,
   "id": "7857a9ed-e09f-426d-9a4a-6b52829df759",
   "metadata": {},
   "outputs": [
    {
     "name": "stdout",
     "output_type": "stream",
     "text": [
      "Requirement already satisfied: xarray in c:\\users\\arad\\appdata\\local\\programs\\python\\python39\\lib\\site-packages (2024.3.0)\n",
      "Requirement already satisfied: numpy>=1.23 in c:\\users\\arad\\appdata\\local\\programs\\python\\python39\\lib\\site-packages (from xarray) (1.23.5)\n",
      "Requirement already satisfied: packaging>=22 in c:\\users\\arad\\appdata\\local\\programs\\python\\python39\\lib\\site-packages (from xarray) (23.2)\n",
      "Requirement already satisfied: pandas>=1.5 in c:\\users\\arad\\appdata\\local\\programs\\python\\python39\\lib\\site-packages (from xarray) (2.1.4)\n",
      "Requirement already satisfied: python-dateutil>=2.8.2 in c:\\users\\arad\\appdata\\local\\programs\\python\\python39\\lib\\site-packages (from pandas>=1.5->xarray) (2.8.2)\n",
      "Requirement already satisfied: pytz>=2020.1 in c:\\users\\arad\\appdata\\local\\programs\\python\\python39\\lib\\site-packages (from pandas>=1.5->xarray) (2023.3.post1)\n",
      "Requirement already satisfied: tzdata>=2022.1 in c:\\users\\arad\\appdata\\local\\programs\\python\\python39\\lib\\site-packages (from pandas>=1.5->xarray) (2023.3)\n",
      "Requirement already satisfied: six>=1.5 in c:\\users\\arad\\appdata\\local\\programs\\python\\python39\\lib\\site-packages (from python-dateutil>=2.8.2->pandas>=1.5->xarray) (1.16.0)\n",
      "Note: you may need to restart the kernel to use updated packages.\n"
     ]
    }
   ],
   "source": [
    "pip install --upgrade xarray"
   ]
  },
  {
   "cell_type": "markdown",
   "id": "c720fda7-de15-4ab5-8a73-0c7b783476f2",
   "metadata": {},
   "source": [
    "## Uninstalling a Library\n",
    "\n",
    "If you need to remove a Library, use:\n",
    "\n",
    "```bash\n",
    "pip uninstall package-name\n"
   ]
  },
  {
   "cell_type": "code",
   "execution_count": null,
   "id": "5dc4f472-8d76-4601-946e-c524f96acc55",
   "metadata": {},
   "outputs": [],
   "source": [
    "pip uninstall xarray"
   ]
  },
  {
   "cell_type": "markdown",
   "id": "337fb15d-3db6-4b38-b543-ee6f3dce69a1",
   "metadata": {},
   "source": [
    "# Conclusion\n",
    "Python libraries are a testament to the language’s versatility and the collaborative spirit of the programming community. These libraries are just the tip of the iceberg in Python’s vast repository of resources. Whether you’re manipulating multi-dimensional arrays with `Xarray`, building machine learning models with `Scikit-learn`, creating beautiful visualizations with `Seaborn`, or processing geospatial data with `OSGeo`, Python has a library for almost every need. They simplify complex tasks, promote code reuse, and enable programmers to stand on the shoulders of giants. Remember, `pip` is a powerful tool that simplifies the process of managing Python packages. *Happy coding!*"
   ]
  }
 ],
 "metadata": {
  "kernelspec": {
   "display_name": "Python 3 (ipykernel)",
   "language": "python",
   "name": "python3"
  },
  "language_info": {
   "codemirror_mode": {
    "name": "ipython",
    "version": 3
   },
   "file_extension": ".py",
   "mimetype": "text/x-python",
   "name": "python",
   "nbconvert_exporter": "python",
   "pygments_lexer": "ipython3",
   "version": "3.9.11"
  }
 },
 "nbformat": 4,
 "nbformat_minor": 5
}
